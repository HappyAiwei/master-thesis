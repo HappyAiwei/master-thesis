{
 "cells": [
  {
   "cell_type": "code",
   "execution_count": 1,
   "metadata": {},
   "outputs": [],
   "source": [
    "import geopandas as gpd\n",
    "import pandas as pd\n",
    "import numpy as np\n",
    "import matplotlib.pyplot as plt\n",
    "import geoplot as gplt\n",
    "import shapefile\n",
    "import osr\n",
    "import dbf\n",
    "import requests\n",
    "import io\n",
    "import tqdm\n",
    "import glob\n",
    "\n",
    "from urllib.request import urlopen\n",
    "from zipfile import ZipFile\n",
    "from shapely.geometry import shape, Point, Polygon\n",
    "\n",
    "\n",
    "%matplotlib inline"
   ]
  },
  {
   "cell_type": "markdown",
   "metadata": {},
   "source": [
    "### Weighted Centroids of several States"
   ]
  },
  {
   "cell_type": "code",
   "execution_count": 2,
   "metadata": {},
   "outputs": [],
   "source": [
    "## Function definition: Read Blocks Shapefile within a State\n",
    "def Blocks_Shapefile(doc_path):\n",
    "    \n",
    "    state_blocks = ZipFile(doc_path, 'r') \n",
    "\n",
    "    filenames = [y for y in sorted(state_blocks.namelist())\n",
    "                 for ending in ['dbf', 'prj', 'shp', 'shx'] if y.endswith(ending)]\n",
    "    dbf, prj, shp, shx = [io.BytesIO(state_blocks.read(filename)) for filename in filenames]\n",
    "    r = shapefile.Reader(shp=shp, shx=shx, dbf=dbf)\n",
    "\n",
    "    attributes, geometry = [], []\n",
    "    field_names = [field[0] for field in r.fields[1:]]\n",
    "    for row in r.shapeRecords():\n",
    "        geometry.append(shape(row.shape.__geo_interface__))\n",
    "        attributes.append(dict(zip(field_names,row.record)))\n",
    "\n",
    "    prj = io.TextIOWrapper(prj, encoding='utf-8')\n",
    "    proj4 = osr.SpatialReference(prj.read()).ExportToProj4()\n",
    "\n",
    "    gdf = gpd.GeoDataFrame(data=attributes, geometry=geometry, crs=proj4)\n",
    "    gdf[['INTPTLON10', 'INTPTLAT10']] = gdf[['INTPTLON10', 'INTPTLAT10']].apply(pd.to_numeric)\n",
    "    gdf.sort_values(['COUNTYFP10', 'BLOCKCE10', 'TRACTCE10'], ascending=[True, True, True], inplace=True)\n",
    "    gdf.reset_index(drop=True, inplace=True)\n",
    "    \n",
    "    return gdf;\n",
    "\n",
    "## gdf01 = Blocks_Shapefile('/home/jinli/Desktop/DataForMasterThesis/Census_Shapefiles/tl_2010_01_tabblock10.zip')"
   ]
  },
  {
   "cell_type": "code",
   "execution_count": 3,
   "metadata": {},
   "outputs": [],
   "source": [
    "## Function definition: Read Population by Blocks within a State\n",
    "def Blocks_Population(doc_path):\n",
    "    \n",
    "    pop = pd.read_csv(doc_path, header=1)\n",
    "    pop['GEOID10'] = pop['id'].map(lambda x: x[9:])\n",
    "    ### cols = pop.columns.tolist()   ## ['id', 'Geographic Area Name', 'Total', 'GEOID10']\n",
    "    pop = pop[['id', 'Geographic Area Name', 'GEOID10', 'Total']]\n",
    "    \n",
    "    return pop;\n",
    "\n",
    "## pop01 = Blocks_Population('/home/jinli/PycharmProjects/DECENNIALSF12010.P1_data_State_01.csv')"
   ]
  },
  {
   "cell_type": "code",
   "execution_count": 12,
   "metadata": {},
   "outputs": [],
   "source": [
    "## Function definition: Read County Shapefile of USA\n",
    "def USA_County_Shapefile(doc_path):\n",
    "    \n",
    "    allcounties = ZipFile(doc_path, 'r')\n",
    "\n",
    "    filenames = [y for y in sorted(allcounties.namelist())\n",
    "                     for ending in ['dbf', 'prj', 'shp', 'shx'] if y.endswith(ending)]\n",
    "    dbf, prj, shp, shx = [io.BytesIO(allcounties.read(filename)) for filename in filenames]\n",
    "    r = shapefile.Reader(shp=shp, shx=shx, dbf=dbf)\n",
    "\n",
    "    attributes, geometry = [], []\n",
    "    field_names = [field[0] for field in r.fields[1:]]\n",
    "    for row in r.shapeRecords():\n",
    "        geometry.append(shape(row.shape.__geo_interface__))\n",
    "        attributes.append(dict(zip(field_names,row.record)))\n",
    "\n",
    "    prj = io.TextIOWrapper(prj, encoding='utf-8')\n",
    "    proj4 = osr.SpatialReference(prj.read()).ExportToProj4()\n",
    "\n",
    "    gdf = gpd.GeoDataFrame(data=attributes, geometry=geometry, crs=proj4)\n",
    "    gdf.sort_values(by =['STATEFP10', 'COUNTYFP10'], inplace=True)\n",
    "    gdf.reset_index(drop=True, inplace=True)\n",
    "    gdf[['INTPTLON10', 'INTPTLAT10']] = gdf[['INTPTLON10', 'INTPTLAT10']].apply(pd.to_numeric)\n",
    "\n",
    "    gdf = gdf[(gdf.STATEFP10 != '02') & (gdf.STATEFP10 != '72') & (gdf.STATEFP10 != '15')]\n",
    "    \n",
    "    return gdf;\n",
    "\n",
    "## allcounties = USA_County_Shapefile('/home/jinli/PycharmProjects/tl_2010_us_county10(NEW).zip')"
   ]
  },
  {
   "cell_type": "code",
   "execution_count": 4,
   "metadata": {},
   "outputs": [],
   "source": [
    "## A list of file names and path in 'Census_Shapefiles' folder.\n",
    "shapefile_list = glob.glob('/home/jinli/Desktop/DataForMasterThesis/Census_Shapefiles/*.zip')\n",
    "pop_list = glob.glob('/home/jinli/Desktop/DataForMasterThesis/Census_Block_Population/*.csv')\n",
    "\n",
    "namespace = globals()\n",
    "for idx, val in enumerate(shapefile_list):\n",
    "    namespace['gdf_%d' % idx] = Blocks_Shapefile(val)\n",
    "    \n",
    "for idx, val in enumerate(pop_list):\n",
    "    namespace['df_%d' % idx] = Blocks_Population(val)\n",
    "    \n",
    "gdf = pd.concat([gdf_0, gdf_1, gdf_2, gdf_3, gdf_4, gdf_5, gdf_6, gdf_7, gdf_8, gdf_9, \n",
    "                 gdf_10, gdf_11, gdf_12, gdf_13, gdf_14, gdf_15, gdf_16, gdf_17, gdf_18, gdf_19,\n",
    "                 gdf_20, gdf_21, gdf_22, gdf_23, gdf_24, gdf_25, gdf_26, gdf_27, gdf_28, gdf_29,\n",
    "                 gdf_30, gdf_31, gdf_32, gdf_33, gdf_34, gdf_35, gdf_36, gdf_37, gdf_38, gdf_39,\n",
    "                 gdf_40, gdf_41, gdf_42, gdf_43, gdf_44, gdf_45, gdf_46, gdf_47, gdf_48])\n",
    "\n",
    "pop = pd.concat([df_0, df_1, df_2, df_3, df_4, df_5, df_6, df_7, df_8, df_9, \n",
    "                 df_10, df_11, df_12, df_13, df_14, df_15, df_16, df_17, df_18, gdf_19,\n",
    "                 df_20, df_21, df_22, df_23, df_24, df_25, df_26, df_27, df_28, gdf_29,\n",
    "                 df_30, df_31, df_32, df_33, df_34, df_35, df_36, df_37, df_38, gdf_39,\n",
    "                 df_40, df_41, df_42, df_43, df_44, df_45, df_46, df_47, df_48])\n",
    "\n",
    "## sf_list = glob.glob('/home/jinli/Desktop/DataForMasterThesis/Census_Shapefiles_try/*.zip')\n",
    "## p_list = glob.glob('/home/jinli/Desktop/DataForMasterThesis/Census_Block_Population_try/*.csv')\n",
    "\n",
    "## namespace = globals()\n",
    "\n",
    "## for idx, val in enumerate(sf_list):\n",
    "    ## namespace['gdf_%d' % idx] = Blocks_Shapefile(val)\n",
    "    \n",
    "## for idx, val in enumerate(p_list):\n",
    "    ## namespace['df_%d' % idx] = Blocks_Population(val)"
   ]
  },
  {
   "cell_type": "code",
   "execution_count": null,
   "metadata": {},
   "outputs": [],
   "source": [
    "geodata = pd.merge(gdf, pop, on='GEOID10')\n",
    "geodata = geodata[['STATEFP10', 'COUNTYFP10', 'GEOID10', 'Total', 'INTPTLON10', 'INTPTLAT10']]\n",
    "\n",
    "geodata['LON*POP'] = geodata['Total']*geodata['INTPTLON10']\n",
    "geodata['LAT*POP'] = geodata['Total']*geodata['INTPTLAT10']\n",
    "\n",
    "## Calculation of population weighted centroids for each county\n",
    "gdf_bycounty = geodata.groupby(['STATEFP10', 'COUNTYFP10'])['Total', 'LON*POP', 'LAT*POP'].sum().reset_index()\n",
    "gdf_bycounty['LON'] = gdf_bycounty['LON*POP']/gdf_bycounty['Total']\n",
    "gdf_bycounty['LAT'] = gdf_bycounty['LAT*POP']/gdf_bycounty['Total']"
   ]
  },
  {
   "cell_type": "code",
   "execution_count": null,
   "metadata": {},
   "outputs": [],
   "source": [
    "### Creat new geodataframe with centroid points transfromed to geometry\n",
    "geometry = [Point(xy) for xy in zip(gdf_bycounty['LON'], gdf_bycounty['LAT'])]\n",
    "cent = gpd.GeoDataFrame(gdf_bycounty, geometry=geometry)\n",
    "\n",
    "cent['GEOID10'] = cent['STATEFP10'] + cent['COUNTYFP10']\n",
    "GEOID10 = cent['GEOID10']\n",
    "cent.drop(labels=['GEOID10'], axis=1, inplace = True)\n",
    "cent.insert(0, 'GEOID10', GEOID10)"
   ]
  },
  {
   "cell_type": "markdown",
   "metadata": {},
   "source": [
    "### Shapefile of all Counties in USA"
   ]
  },
  {
   "cell_type": "code",
   "execution_count": null,
   "metadata": {},
   "outputs": [],
   "source": [
    "allcounties = USA_County_Shapefile('/home/jinli/PycharmProjects/tl_2010_us_county10(NEW).zip')"
   ]
  },
  {
   "cell_type": "markdown",
   "metadata": {},
   "source": [
    "### County Pairs"
   ]
  },
  {
   "cell_type": "code",
   "execution_count": null,
   "metadata": {},
   "outputs": [],
   "source": [
    "countypairs = pd.read_csv('/home/jinli/PycharmProjects/county-pair-list.txt')\n",
    "\n",
    "countypairs.drop_duplicates(subset='COUNTYPAIR_ID', inplace = True)\n",
    "\n",
    "new = countypairs['COUNTYPAIR_ID'].str.split(\"-\", n = 1, expand = True)\n",
    "\n",
    "countypairs['GEOID10_FIPS1'] = new[0]\n",
    "countypairs['GEOID10_FIPS2'] = new[1]\n",
    "countypairs['STATE_FIPS1'] = countypairs['GEOID10_FIPS1'].map(lambda x: x[0:2])\n",
    "countypairs['STATE_FIPS2'] = countypairs['GEOID10_FIPS2'].map(lambda x: x[0:2])\n",
    "\n",
    "countypairs = countypairs[['COUNTYPAIR_ID', 'STATE_FIPS1', 'GEOID10_FIPS1', 'STATE_FIPS2', 'GEOID10_FIPS2']]\n",
    "countypairs.reset_index(drop=True, inplace=True)"
   ]
  },
  {
   "cell_type": "code",
   "execution_count": null,
   "metadata": {},
   "outputs": [],
   "source": [
    "countypairs"
   ]
  },
  {
   "cell_type": "markdown",
   "metadata": {},
   "source": [
    "### Boundaries shared by each county pairs"
   ]
  },
  {
   "cell_type": "code",
   "execution_count": null,
   "metadata": {},
   "outputs": [],
   "source": [
    "### County pairs in State 01,12,13,28\n",
    "cp = countypairs[countypairs.STATE_FIPS1=='01']\n",
    "\n",
    "### Geodataframe of all counties in USA\n",
    "gdf_ac = allcounties[['GEOID10', 'INTPTLAT10', 'INTPTLON10', 'geometry']]\n",
    "\n",
    "### County Boundary Intersection: cbi\n",
    "GEOID10_FIPS1 = cp[['GEOID10_FIPS1']]\n",
    "GEOID10_FIPS2 = cp[['GEOID10_FIPS2']]\n",
    "cb_GEOID10_FIPS1 = pd.merge(GEOID10_FIPS1, gdf_ac, how='left', left_on='GEOID10_FIPS1', right_on='GEOID10')\n",
    "cb_GEOID10_FIPS2 = pd.merge(GEOID10_FIPS2, gdf_ac, how='left', left_on='GEOID10_FIPS2', right_on='GEOID10')\n",
    "cb_FIPS1 = cb_GEOID10_FIPS1[['geometry']].rename(columns={'geometry': 'geometry_FIPS1'})\n",
    "cb_FIPS2 = cb_GEOID10_FIPS2[['geometry']].rename(columns={'geometry': 'geometry_FIPS2'})\n",
    "\n",
    "### County pairs geometries\n",
    "cbp = pd.concat([cb_FIPS1, cb_FIPS2], axis=1)"
   ]
  },
  {
   "cell_type": "code",
   "execution_count": null,
   "metadata": {},
   "outputs": [],
   "source": [
    "cbi = pd.DataFrame(columns=['intersection'])\n",
    "\n",
    "for index, row in cbp.iterrows():\n",
    "    intersection = row['geometry_FIPS1'].intersection(row['geometry_FIPS2'])\n",
    "    cbi = cbi.append({'intersection': intersection}, ignore_index=True)\n",
    "\n",
    "### County pairs and the shared boundaries   \n",
    "geocbi = gpd.GeoDataFrame(cp, geometry=cbi.intersection)\n",
    "\n",
    "### Dataframe that contains weighted centroids coordinates of all county in USA\n",
    "geocent = cent[['GEOID10', 'geometry']]\n",
    "\n",
    "### Joining dataframes to form a new one which include shared boundaries & centroids information\n",
    "distance_info = pd.merge(geocbi, geocent, how='left', left_on='GEOID10_FIPS1', right_on='GEOID10')\n",
    "distance_info = pd.merge(distance_info, geocent, how='left', left_on='GEOID10_FIPS2', right_on='GEOID10')\n",
    "distance_info = distance_info.rename(columns={'geometry_x': 'Intersection', \n",
    "                                              'geometry_y': 'Cent_FIPS1', 'geometry': 'Cent_FIPS2'})\n",
    "distance_info.drop(['GEOID10_x', 'GEOID10_y'], axis=1, inplace=True)"
   ]
  },
  {
   "cell_type": "code",
   "execution_count": null,
   "metadata": {},
   "outputs": [],
   "source": [
    "distance_info.head()"
   ]
  },
  {
   "cell_type": "markdown",
   "metadata": {},
   "source": [
    "### Distance between population weighted county centroids and boundaries"
   ]
  },
  {
   "cell_type": "code",
   "execution_count": null,
   "metadata": {},
   "outputs": [],
   "source": [
    "distance_FIPS1, distance_FIPS2 = [], []\n",
    "\n",
    "for index, row in distance_info.iterrows():\n",
    "    ##points.distance(lines)\n",
    "    dist1 = row['Cent_FIPS1'].distance(row['Intersection'])\n",
    "    dist2 = row['Cent_FIPS2'].distance(row['Intersection'])\n",
    "    distance_FIPS1.append(dist1)\n",
    "    distance_FIPS2.append(dist2)\n",
    "    \n",
    "dist_FIPS1 = pd.DataFrame({'distance_FIPS1':distance_FIPS1})\n",
    "dist_FIPS2 = pd.DataFrame({'distance_FIPS2':distance_FIPS2})\n",
    "\n",
    "distance = pd.concat([distance_info, dist_FIPS1, dist_FIPS2], axis=1)"
   ]
  },
  {
   "cell_type": "code",
   "execution_count": null,
   "metadata": {},
   "outputs": [],
   "source": [
    "distance.info()"
   ]
  },
  {
   "cell_type": "code",
   "execution_count": null,
   "metadata": {},
   "outputs": [],
   "source": []
  }
 ],
 "metadata": {
  "kernelspec": {
   "display_name": "Python 3",
   "language": "python",
   "name": "python3"
  },
  "language_info": {
   "codemirror_mode": {
    "name": "ipython",
    "version": 3
   },
   "file_extension": ".py",
   "mimetype": "text/x-python",
   "name": "python",
   "nbconvert_exporter": "python",
   "pygments_lexer": "ipython3",
   "version": "3.7.3"
  }
 },
 "nbformat": 4,
 "nbformat_minor": 2
}
