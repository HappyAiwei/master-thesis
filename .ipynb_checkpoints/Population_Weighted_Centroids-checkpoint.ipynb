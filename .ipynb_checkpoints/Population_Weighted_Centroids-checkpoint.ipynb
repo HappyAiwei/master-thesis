{
 "cells": [
  {
   "cell_type": "code",
   "execution_count": 1,
   "metadata": {},
   "outputs": [],
   "source": [
    "import geopandas as gpd\n",
    "import pandas as pd\n",
    "import numpy as np\n",
    "import matplotlib.pyplot as plt\n",
    "import geoplot as gplt\n",
    "import shapefile\n",
    "import osr\n",
    "import dbf\n",
    "import requests\n",
    "import io\n",
    "\n",
    "from urllib.request import urlopen\n",
    "from zipfile import ZipFile\n",
    "from shapely.geometry import shape, Point, Polygon\n",
    "\n",
    "\n",
    "%matplotlib inline"
   ]
  },
  {
   "cell_type": "markdown",
   "metadata": {},
   "source": [
    "### Weighted Centroids of several States"
   ]
  },
  {
   "cell_type": "code",
   "execution_count": 4,
   "metadata": {},
   "outputs": [],
   "source": [
    "## Function definition: Read Blocks Shapefile within a State\n",
    "def Blocks_Shapefile(doc_path):\n",
    "    \n",
    "    state_blocks = ZipFile(doc_path, 'r') \n",
    "\n",
    "    filenames = [y for y in sorted(state_blocks.namelist())\n",
    "                 for ending in ['dbf', 'prj', 'shp', 'shx'] if y.endswith(ending)]\n",
    "    dbf, prj, shp, shx = [io.BytesIO(state_blocks.read(filename)) for filename in filenames]\n",
    "    r = shapefile.Reader(shp=shp, shx=shx, dbf=dbf)\n",
    "\n",
    "    attributes, geometry = [], []\n",
    "    field_names = [field[0] for field in r.fields[1:]]\n",
    "    for row in r.shapeRecords():\n",
    "        geometry.append(shape(row.shape.__geo_interface__))\n",
    "        attributes.append(dict(zip(field_names,row.record)))\n",
    "\n",
    "    prj = io.TextIOWrapper(prj, encoding='utf-8')\n",
    "    proj4 = osr.SpatialReference(prj.read()).ExportToProj4()\n",
    "\n",
    "    gdf = gpd.GeoDataFrame(data=attributes, geometry=geometry, crs=proj4)\n",
    "    gdf[['INTPTLON10', 'INTPTLAT10']] = gdf[['INTPTLON10', 'INTPTLAT10']].apply(pd.to_numeric)\n",
    "    gdf.sort_values(['COUNTYFP10', 'BLOCKCE10', 'TRACTCE10'], ascending=[True, True, True], inplace=True)\n",
    "    gdf.reset_index(drop=True, inplace=True)\n",
    "    \n",
    "    return gdf;\n",
    "\n",
    "## gdf01 = Blocks_Shapefile('/home/jinli/PycharmProjects/tl_2010_01_tabblock10.zip')"
   ]
  },
  {
   "cell_type": "code",
   "execution_count": 7,
   "metadata": {},
   "outputs": [],
   "source": [
    "## Function definition: Read Population by Blocks within a State\n",
    "def Blocks_Population(doc_path):\n",
    "    \n",
    "    pop = pd.read_csv(doc_path, header=1)\n",
    "    pop['GEOID10'] = pop['id'].map(lambda x: x[9:])\n",
    "    ### cols = pop.columns.tolist()   ## ['id', 'Geographic Area Name', 'Total', 'GEOID10']\n",
    "    pop = pop[['id', 'Geographic Area Name', 'GEOID10', 'Total']]\n",
    "    \n",
    "    return pop;\n",
    "\n",
    "## pop01 = Blocks_Population('/home/jinli/PycharmProjects/DECENNIALSF12010.P1_data_State_01.csv')"
   ]
  },
  {
   "cell_type": "code",
   "execution_count": 14,
   "metadata": {},
   "outputs": [],
   "source": [
    "## Function definition: Read County Shapefile of USA\n",
    "def USA_County_Shapefile(doc_path):\n",
    "    \n",
    "    allcounties = ZipFile(doc_path, 'r')\n",
    "\n",
    "    filenames = [y for y in sorted(allcounties.namelist())\n",
    "                     for ending in ['dbf', 'prj', 'shp', 'shx'] if y.endswith(ending)]\n",
    "    dbf, prj, shp, shx = [io.BytesIO(allcounties.read(filename)) for filename in filenames]\n",
    "    r = shapefile.Reader(shp=shp, shx=shx, dbf=dbf)\n",
    "\n",
    "    attributes, geometry = [], []\n",
    "    field_names = [field[0] for field in r.fields[1:]]\n",
    "    for row in r.shapeRecords():\n",
    "        geometry.append(shape(row.shape.__geo_interface__))\n",
    "        attributes.append(dict(zip(field_names,row.record)))\n",
    "\n",
    "    prj = io.TextIOWrapper(prj, encoding='utf-8')\n",
    "    proj4 = osr.SpatialReference(prj.read()).ExportToProj4()\n",
    "\n",
    "    gdf = gpd.GeoDataFrame(data=attributes, geometry=geometry, crs=proj4)\n",
    "    gdf.sort_values(by =['STATEFP10', 'COUNTYFP10'], inplace=True)\n",
    "    gdf.reset_index(drop=True, inplace=True)\n",
    "    gdf[['INTPTLON10', 'INTPTLAT10']] = gdf[['INTPTLON10', 'INTPTLAT10']].apply(pd.to_numeric)\n",
    "\n",
    "    gdf = gdf[(gdf.STATEFP10 != '02') & (gdf.STATEFP10 != '72') & (gdf.STATEFP10 != '15')]\n",
    "    \n",
    "    return gdf;\n",
    "\n",
    "## allcounties = USA_County_Shapefile('/home/jinli/PycharmProjects/tl_2010_us_county10(NEW).zip')"
   ]
  },
  {
   "cell_type": "code",
   "execution_count": null,
   "metadata": {},
   "outputs": [],
   "source": []
  }
 ],
 "metadata": {
  "kernelspec": {
   "display_name": "Python 3",
   "language": "python",
   "name": "python3"
  },
  "language_info": {
   "codemirror_mode": {
    "name": "ipython",
    "version": 3
   },
   "file_extension": ".py",
   "mimetype": "text/x-python",
   "name": "python",
   "nbconvert_exporter": "python",
   "pygments_lexer": "ipython3",
   "version": "3.7.3"
  }
 },
 "nbformat": 4,
 "nbformat_minor": 2
}
