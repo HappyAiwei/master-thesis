{
 "cells": [
  {
   "cell_type": "code",
   "execution_count": 1,
   "metadata": {},
   "outputs": [],
   "source": [
    "import pandas as pd\n",
    "import numpy as np\n",
    "import math\n",
    "import os\n",
    "import glob"
   ]
  },
  {
   "cell_type": "code",
   "execution_count": null,
   "metadata": {},
   "outputs": [],
   "source": [
    "# wy = pd.read_csv('qwi_wy_sa_f_gc_ns_op_u.csv.gz', compression='gzip')\n",
    "# wy.head()\n",
    "# list(wy.columns.values)\n",
    "# wy.geography.unique()\n",
    "# wy.year.unique()"
   ]
  },
  {
   "cell_type": "code",
   "execution_count": null,
   "metadata": {},
   "outputs": [],
   "source": [
    "os.chdir('2014.q1-q4.by_area')\n",
    "\n",
    "extension = 'csv'\n",
    "all_filenames = [i for i in glob.glob('*.{}'.format(extension))]\n",
    "QCEW14 = pd.concat([pd.read_csv(f) for f in all_filenames])\n",
    "\n",
    "# convert int64 column to string dtype\n",
    "QCEW14['area_fips'] = QCEW14['area_fips'].astype(str)\n",
    "# set out put string length\n",
    "width = 5\n",
    "# prefix zeroes to form same length\n",
    "QCEW14['area_fips'] = QCEW14['area_fips'].str.zfill(width)\n",
    "QCEW14.dtypes"
   ]
  },
  {
   "cell_type": "code",
   "execution_count": null,
   "metadata": {},
   "outputs": [],
   "source": [
    "cp_ur = pd.read_csv('CountyPairsUnemploymentRate.csv')\n",
    "\n",
    "## slice column 'Period' as 'Month' column\n",
    "cp_ur['Month'] = cp_ur['Period'].str.slice(1,3)\n",
    "\n",
    "## combine 'Year' and 'Month' as a new column\n",
    "cp_ur['YearMonth'] = pd.to_datetime(cp_ur[['Year', 'Month']].assign(Day=1)).dt.strftime('%Y-%m')\n",
    "\n",
    "cp_ur = cp_ur[['county_id', 'YearMonth', 'Value']]\n",
    "## a = cp_ur.index[cp_ur['Value']==\"-\"].tolist()\n",
    "## [99668, 99669, 99670, 99671, 99672, 99673, 99674, 99675, 99676, 99677]\n",
    "cp_ur.loc[99668:99677, 'Value'] = np.nan\n",
    "cp_ur['Value'] = pd.to_numeric(cp_ur['Value'])\n",
    "\n",
    "## reshape dataframe\n",
    "monthly_ur = cp_ur.pivot(index='county_id', columns='YearMonth')['Value']\n",
    "monthly_ur = monthly_ur.rename_axis(columns=None).reset_index()\n",
    "monthly_ur = monthly_ur.drop(monthly_ur.columns[-1], axis=1)\n",
    "monthly_ur.set_index('county_id', inplace=True)\n",
    "\n",
    "## calculate quarterly unemployment rate, reshape dataframe\n",
    "quarterly_ur = monthly_ur.groupby(pd.PeriodIndex(monthly_ur.columns, freq='Q'), axis=1).mean()\n",
    "quarterly_ur.reset_index(level=0, inplace=True)\n",
    "quarterly_ur = quarterly_ur.melt(id_vars=['county_id'], var_name='Period', \n",
    "                  value_name='UnemploymentRate').sort_values(by=['county_id', 'Period']).reset_index(drop=True)\n",
    "\n",
    "## quarterly_ur.loc[quarterly_ur['UnemploymentRate'].idxmax()]\n",
    "### county_id              6025\n",
    "### Period               2011Q3\n",
    "### UnemploymentRate    31.5333\n",
    "### Name: 5486, dtype: object\n",
    "\n",
    "quarterly_ur.to_csv('QuarterlyUnemploymentRate', index=False)"
   ]
  },
  {
   "cell_type": "code",
   "execution_count": null,
   "metadata": {},
   "outputs": [],
   "source": [
    "## calculate potential maximun benefit duration for all states during all periods\n",
    "bd = pd.read_excel('MaxBD.xlsx', index_col=None)\n",
    "bd.fillna(0, inplace=True)\n",
    "cols = list(bd.columns)[3:]\n",
    "bd[cols] += 26\n",
    "bd[cols] = bd[cols].astype(int)\n",
    "## extract columns to form new dataframe\n",
    "state_info = bd.iloc[:, 0:3]\n",
    "\n",
    "bd.to_csv('MaxBenefitDuration.csv', index=False)\n",
    "state_info.to_csv('StateInfo.csv', index=False)"
   ]
  },
  {
   "cell_type": "code",
   "execution_count": null,
   "metadata": {},
   "outputs": [],
   "source": [
    "mbd = pd.read_csv('MaxBenefitDuration.csv')\n",
    "qur = pd.read_csv('QuarterlyUnemploymentRate')\n",
    "sinfo = pd.read_csv('StateInfo.csv')\n",
    "\n",
    "## reshape dataframe of maximun benefit duration\n",
    "mbd.drop(mbd.columns[0:2], axis=1, inplace=True)\n",
    "mbd = mbd.melt(id_vars=['state_id'], var_name='Period',\n",
    "              value_name='Weeks').sort_values(by=['state_id', 'Period']).reset_index(drop=True)\n",
    "\n",
    "qur['state_id'] = qur['county_id'].astype(str).str[:-3].astype(np.int64)\n",
    "qur['Year'] = qur['Period'].str.slice(0,4).astype(np.int64)\n",
    "qur = qur[qur['Year'].between(2006, 2016)]\n",
    "\n",
    "qur_mbd = pd.merge(qur, mbd, how='left', on=['state_id', 'Period'])\n",
    "qur_mbd = pd.merge(qur_mbd, sinfo, how='left', on='state_id')\n",
    "qur_mbd = qur_mbd[['state_id', 'State', 'Abbr.','county_id', 'Period', 'UnemploymentRate', 'Weeks']]\n",
    "\n",
    "qur_mbd.to_csv('CountyURandMBD.csv', index=False)"
   ]
  },
  {
   "cell_type": "code",
   "execution_count": 2,
   "metadata": {},
   "outputs": [
    {
     "name": "stderr",
     "output_type": "stream",
     "text": [
      "/home/jinli/anaconda3/lib/python3.7/site-packages/pandas/core/generic.py:6586: SettingWithCopyWarning: \n",
      "A value is trying to be set on a copy of a slice from a DataFrame\n",
      "\n",
      "See the caveats in the documentation: http://pandas.pydata.org/pandas-docs/stable/indexing.html#indexing-view-versus-copy\n",
      "  self._update_inplace(new_data)\n"
     ]
    }
   ],
   "source": [
    "# Joining dataframes to one with information on county-pairs, unemployment rate and maximum benefit durations.\n",
    "\n",
    "df = pd.read_stata('QCEWindustry_minwage_contig.dta')\n",
    "\n",
    "## extract county-pair ids\n",
    "countypairs = df[['pair_id']]\n",
    "countypairs['pair_id'].replace('', np.nan, inplace=True)\n",
    "countypairs = countypairs.dropna()\n",
    "\n",
    "## only contains unique pairs\n",
    "pairID = countypairs['pair_id'].unique()\n",
    "pairID = pd.DataFrame(pairID, columns=['pair_id'])\n",
    "\n",
    "new = pairID['pair_id'].str.split('-', n=1, expand=True)\n",
    "pairID['front'] = new[0].astype(int)\n",
    "pairID['back'] = new[1].astype(int)\n",
    "\n",
    "pairID = pairID.sort_values(by='pair_id')\n",
    "pairID.reset_index(drop=True,inplace=True)\n",
    "\n",
    "df_f = pd.read_csv('CountyURandMBD.csv')\n",
    "df_b = df_f\n",
    "\n",
    "df_f = df_f.add_prefix('f.')\n",
    "df_b = df_b.add_prefix('b.')\n",
    "\n",
    "df_f.rename(columns={'f.county_id': 'front', 'f.Period': 'Period'}, inplace=True)\n",
    "df_b.rename(columns={'b.county_id': 'back', 'b.Period': 'Period'}, inplace=True)\n",
    "\n",
    "info = pd.merge(pairID, df_f, how='left', on='front')\n",
    "info = pd.merge(info, df_b, how='left', on=['back', 'Period'])"
   ]
  },
  {
   "cell_type": "code",
   "execution_count": 3,
   "metadata": {},
   "outputs": [
    {
     "data": {
      "text/plain": [
       "pair_id                object\n",
       "front                   int64\n",
       "back                    int64\n",
       "f.state_id              int64\n",
       "f.State                object\n",
       "f.Abbr.                object\n",
       "Period                 object\n",
       "f.UnemploymentRate    float64\n",
       "f.Weeks                 int64\n",
       "b.state_id              int64\n",
       "b.State                object\n",
       "b.Abbr.                object\n",
       "b.UnemploymentRate    float64\n",
       "b.Weeks                 int64\n",
       "dtype: object"
      ]
     },
     "execution_count": 3,
     "metadata": {},
     "output_type": "execute_result"
    }
   ],
   "source": [
    "info.dtypes"
   ]
  },
  {
   "cell_type": "code",
   "execution_count": null,
   "metadata": {},
   "outputs": [],
   "source": []
  }
 ],
 "metadata": {
  "kernelspec": {
   "display_name": "Python 3",
   "language": "python",
   "name": "python3"
  },
  "language_info": {
   "codemirror_mode": {
    "name": "ipython",
    "version": 3
   },
   "file_extension": ".py",
   "mimetype": "text/x-python",
   "name": "python",
   "nbconvert_exporter": "python",
   "pygments_lexer": "ipython3",
   "version": "3.7.3"
  }
 },
 "nbformat": 4,
 "nbformat_minor": 2
}
